{
 "cells": [
  {
   "cell_type": "code",
   "execution_count": 1,
   "id": "d9f8cb59",
   "metadata": {},
   "outputs": [
    {
     "name": "stdout",
     "output_type": "stream",
     "text": [
      "Collecting chess\n",
      "  Downloading chess-1.9.4-py3-none-any.whl (149 kB)\n",
      "                                              0.0/149.1 kB ? eta -:--:--\n",
      "                                              0.0/149.1 kB ? eta -:--:--\n",
      "                                              0.0/149.1 kB ? eta -:--:--\n",
      "                                              0.0/149.1 kB ? eta -:--:--\n",
      "                                              0.0/149.1 kB ? eta -:--:--\n",
      "                                              0.0/149.1 kB ? eta -:--:--\n",
      "                                              0.0/149.1 kB ? eta -:--:--\n",
      "                                              0.0/149.1 kB ? eta -:--:--\n",
      "                                              0.0/149.1 kB ? eta -:--:--\n",
      "                                              0.0/149.1 kB ? eta -:--:--\n",
      "                                              0.0/149.1 kB ? eta -:--:--\n",
      "                                              0.0/149.1 kB ? eta -:--:--\n",
      "                                              0.0/149.1 kB ? eta -:--:--\n",
      "                                              0.0/149.1 kB ? eta -:--:--\n",
      "                                              0.0/149.1 kB ? eta -:--:--\n",
      "                                              0.0/149.1 kB ? eta -:--:--\n",
      "                                              0.0/149.1 kB ? eta -:--:--\n",
      "                                              0.0/149.1 kB ? eta -:--:--\n",
      "                                              0.0/149.1 kB ? eta -:--:--\n",
      "                                              0.0/149.1 kB ? eta -:--:--\n",
      "                                              0.0/149.1 kB ? eta -:--:--\n",
      "                                              0.0/149.1 kB ? eta -:--:--\n",
      "     --                                       10.2/149.1 kB ? eta -:--:--\n",
      "     --                                       10.2/149.1 kB ? eta -:--:--\n",
      "     --                                       10.2/149.1 kB ? eta -:--:--\n",
      "     --                                       10.2/149.1 kB ? eta -:--:--\n",
      "     --                                       10.2/149.1 kB ? eta -:--:--\n",
      "     --                                       10.2/149.1 kB ? eta -:--:--\n",
      "     --                                       10.2/149.1 kB ? eta -:--:--\n",
      "     --                                       10.2/149.1 kB ? eta -:--:--\n",
      "     --                                       10.2/149.1 kB ? eta -:--:--\n",
      "     --                                       10.2/149.1 kB ? eta -:--:--\n",
      "     --                                       10.2/149.1 kB ? eta -:--:--\n",
      "     --                                       10.2/149.1 kB ? eta -:--:--\n",
      "     --                                       10.2/149.1 kB ? eta -:--:--\n",
      "     --                                       10.2/149.1 kB ? eta -:--:--\n",
      "     --                                       10.2/149.1 kB ? eta -:--:--\n",
      "     --                                       10.2/149.1 kB ? eta -:--:--\n",
      "     --                                       10.2/149.1 kB ? eta -:--:--\n",
      "     --                                       10.2/149.1 kB ? eta -:--:--\n",
      "     --                                       10.2/149.1 kB ? eta -:--:--\n",
      "     --                                       10.2/149.1 kB ? eta -:--:--\n",
      "     --                                       10.2/149.1 kB ? eta -:--:--\n",
      "     -------                                30.7/149.1 kB 20.5 kB/s eta 0:00:06\n",
      "     -------                                30.7/149.1 kB 20.5 kB/s eta 0:00:06\n",
      "     -------                                30.7/149.1 kB 20.5 kB/s eta 0:00:06\n",
      "     -------                                30.7/149.1 kB 20.5 kB/s eta 0:00:06\n",
      "     -------                                30.7/149.1 kB 20.5 kB/s eta 0:00:06\n",
      "     -------                                30.7/149.1 kB 20.5 kB/s eta 0:00:06\n",
      "     -------                                30.7/149.1 kB 20.5 kB/s eta 0:00:06\n",
      "     -------                                30.7/149.1 kB 20.5 kB/s eta 0:00:06\n",
      "     ---------------                        61.4/149.1 kB 38.6 kB/s eta 0:00:03\n",
      "     ---------------                        61.4/149.1 kB 38.6 kB/s eta 0:00:03\n",
      "     ---------------                        61.4/149.1 kB 38.6 kB/s eta 0:00:03\n",
      "     ------------------                     71.7/149.1 kB 41.0 kB/s eta 0:00:02\n",
      "     ---------------------------           112.6/149.1 kB 65.6 kB/s eta 0:00:01\n",
      "     ------------------------------        122.9/149.1 kB 70.7 kB/s eta 0:00:01\n",
      "     ------------------------------        122.9/149.1 kB 70.7 kB/s eta 0:00:01\n",
      "     ------------------------------        122.9/149.1 kB 70.7 kB/s eta 0:00:01\n",
      "     ------------------------------        122.9/149.1 kB 70.7 kB/s eta 0:00:01\n",
      "     ------------------------------        122.9/149.1 kB 70.7 kB/s eta 0:00:01\n",
      "     ------------------------------        122.9/149.1 kB 70.7 kB/s eta 0:00:01\n",
      "     ------------------------------        122.9/149.1 kB 70.7 kB/s eta 0:00:01\n",
      "     ------------------------------        122.9/149.1 kB 70.7 kB/s eta 0:00:01\n",
      "     ------------------------------        122.9/149.1 kB 70.7 kB/s eta 0:00:01\n",
      "     ------------------------------------- 149.1/149.1 kB 69.4 kB/s eta 0:00:00\n",
      "Installing collected packages: chess\n",
      "Successfully installed chess-1.9.4\n"
     ]
    },
    {
     "name": "stderr",
     "output_type": "stream",
     "text": [
      "WARNING: Ignoring invalid distribution -orch (c:\\users\\mohsw\\appdata\\local\\programs\\python\\python310\\lib\\site-packages)\n",
      "WARNING: Ignoring invalid distribution -orch (c:\\users\\mohsw\\appdata\\local\\programs\\python\\python310\\lib\\site-packages)\n",
      "\n",
      "[notice] A new release of pip is available: 23.1.2 -> 23.2\n",
      "[notice] To update, run: python.exe -m pip install --upgrade pip\n"
     ]
    }
   ],
   "source": [
    "!pip install chess\n"
   ]
  },
  {
   "cell_type": "code",
   "execution_count": 14,
   "id": "e8e0c5c5",
   "metadata": {},
   "outputs": [],
   "source": [
    "import chess\n",
    "import chess.engine\n"
   ]
  },
  {
   "cell_type": "code",
   "execution_count": 15,
   "id": "ccd7897f",
   "metadata": {},
   "outputs": [],
   "source": [
    "stockfish_path = 'Desktop/stockfish/stockfish-windows-x86-64-modern.exe'\n",
    "engine = chess.engine.SimpleEngine.popen_uci(stockfish_path)\n"
   ]
  },
  {
   "cell_type": "code",
   "execution_count": 16,
   "id": "b6ec0999",
   "metadata": {},
   "outputs": [],
   "source": [
    "board = chess.Board()\n"
   ]
  },
  {
   "cell_type": "code",
   "execution_count": 17,
   "id": "43716cb3",
   "metadata": {},
   "outputs": [
    {
     "name": "stdout",
     "output_type": "stream",
     "text": [
      "[Move.from_uci('g1h3'), Move.from_uci('g1f3'), Move.from_uci('b1c3'), Move.from_uci('b1a3'), Move.from_uci('h2h3'), Move.from_uci('g2g3'), Move.from_uci('f2f3'), Move.from_uci('e2e3'), Move.from_uci('d2d3'), Move.from_uci('c2c3'), Move.from_uci('b2b3'), Move.from_uci('a2a3'), Move.from_uci('h2h4'), Move.from_uci('g2g4'), Move.from_uci('f2f4'), Move.from_uci('e2e4'), Move.from_uci('d2d4'), Move.from_uci('c2c4'), Move.from_uci('b2b4'), Move.from_uci('a2a4')]\n"
     ]
    }
   ],
   "source": [
    "print(list(board.legal_moves))\n"
   ]
  },
  {
   "cell_type": "code",
   "execution_count": 20,
   "id": "9947eb1f",
   "metadata": {},
   "outputs": [
    {
     "name": "stdout",
     "output_type": "stream",
     "text": [
      "AI Move: g1f3\n"
     ]
    }
   ],
   "source": [
    "# Get AI move\n",
    "result = engine.play(board, chess.engine.Limit(time=2.0))\n",
    "ai_move = result.move\n",
    "\n",
    "# Print AI move\n",
    "print(\"AI Move:\", ai_move)\n"
   ]
  },
  {
   "cell_type": "code",
   "execution_count": 18,
   "id": "740a507a",
   "metadata": {},
   "outputs": [],
   "source": [
    "# Make a move\n",
    "move = chess.Move.from_uci('e2e4')\n",
    "board.push(move)\n",
    "\n",
    "# Get AI move\n",
    "result = engine.play(board, chess.engine.Limit(time=2.0))\n",
    "ai_move = result.move\n",
    "\n",
    "# Make AI move\n",
    "board.push(ai_move)\n"
   ]
  },
  {
   "cell_type": "code",
   "execution_count": 19,
   "id": "a78bc0f8",
   "metadata": {},
   "outputs": [
    {
     "ename": "AssertionError",
     "evalue": "push() expects move to be pseudo-legal, but got e2e4 in rnbqkbnr/pppp1ppp/8/4p3/4P3/8/PPPP1PPP/RNBQKBNR",
     "output_type": "error",
     "traceback": [
      "\u001b[1;31m---------------------------------------------------------------------------\u001b[0m",
      "\u001b[1;31mAssertionError\u001b[0m                            Traceback (most recent call last)",
      "Cell \u001b[1;32mIn[19], line 4\u001b[0m\n\u001b[0;32m      1\u001b[0m \u001b[38;5;28;01mwhile\u001b[39;00m \u001b[38;5;129;01mnot\u001b[39;00m board\u001b[38;5;241m.\u001b[39mis_game_over():\n\u001b[0;32m      2\u001b[0m     \u001b[38;5;66;03m# Make a move\u001b[39;00m\n\u001b[0;32m      3\u001b[0m     move \u001b[38;5;241m=\u001b[39m chess\u001b[38;5;241m.\u001b[39mMove\u001b[38;5;241m.\u001b[39mfrom_uci(\u001b[38;5;124m'\u001b[39m\u001b[38;5;124me2e4\u001b[39m\u001b[38;5;124m'\u001b[39m)\n\u001b[1;32m----> 4\u001b[0m     \u001b[43mboard\u001b[49m\u001b[38;5;241;43m.\u001b[39;49m\u001b[43mpush\u001b[49m\u001b[43m(\u001b[49m\u001b[43mmove\u001b[49m\u001b[43m)\u001b[49m\n\u001b[0;32m      6\u001b[0m     \u001b[38;5;66;03m# Get AI move\u001b[39;00m\n\u001b[0;32m      7\u001b[0m     result \u001b[38;5;241m=\u001b[39m engine\u001b[38;5;241m.\u001b[39mplay(board, chess\u001b[38;5;241m.\u001b[39mengine\u001b[38;5;241m.\u001b[39mLimit(time\u001b[38;5;241m=\u001b[39m\u001b[38;5;241m2.0\u001b[39m))\n",
      "File \u001b[1;32m~\\AppData\\Local\\Programs\\Python\\Python310\\lib\\site-packages\\chess\\__init__.py:2235\u001b[0m, in \u001b[0;36mBoard.push\u001b[1;34m(self, move)\u001b[0m\n\u001b[0;32m   2233\u001b[0m promoted \u001b[38;5;241m=\u001b[39m \u001b[38;5;28mbool\u001b[39m(\u001b[38;5;28mself\u001b[39m\u001b[38;5;241m.\u001b[39mpromoted \u001b[38;5;241m&\u001b[39m from_bb)\n\u001b[0;32m   2234\u001b[0m piece_type \u001b[38;5;241m=\u001b[39m \u001b[38;5;28mself\u001b[39m\u001b[38;5;241m.\u001b[39m_remove_piece_at(move\u001b[38;5;241m.\u001b[39mfrom_square)\n\u001b[1;32m-> 2235\u001b[0m \u001b[38;5;28;01massert\u001b[39;00m piece_type \u001b[38;5;129;01mis\u001b[39;00m \u001b[38;5;129;01mnot\u001b[39;00m \u001b[38;5;28;01mNone\u001b[39;00m, \u001b[38;5;124mf\u001b[39m\u001b[38;5;124m\"\u001b[39m\u001b[38;5;124mpush() expects move to be pseudo-legal, but got \u001b[39m\u001b[38;5;132;01m{\u001b[39;00mmove\u001b[38;5;132;01m}\u001b[39;00m\u001b[38;5;124m in \u001b[39m\u001b[38;5;132;01m{\u001b[39;00m\u001b[38;5;28mself\u001b[39m\u001b[38;5;241m.\u001b[39mboard_fen()\u001b[38;5;132;01m}\u001b[39;00m\u001b[38;5;124m\"\u001b[39m\n\u001b[0;32m   2236\u001b[0m capture_square \u001b[38;5;241m=\u001b[39m move\u001b[38;5;241m.\u001b[39mto_square\n\u001b[0;32m   2237\u001b[0m captured_piece_type \u001b[38;5;241m=\u001b[39m \u001b[38;5;28mself\u001b[39m\u001b[38;5;241m.\u001b[39mpiece_type_at(capture_square)\n",
      "\u001b[1;31mAssertionError\u001b[0m: push() expects move to be pseudo-legal, but got e2e4 in rnbqkbnr/pppp1ppp/8/4p3/4P3/8/PPPP1PPP/RNBQKBNR"
     ]
    }
   ],
   "source": [
    "while not board.is_game_over():\n",
    "    # Make a move\n",
    "    move = chess.Move.from_uci('e2e4')\n",
    "    board.push(move)\n",
    "\n",
    "    # Get AI move\n",
    "    result = engine.play(board, chess.engine.Limit(time=2.0))\n",
    "    ai_move = result.move\n",
    "\n",
    "    # Make AI move\n",
    "    board.push(ai_move)\n"
   ]
  },
  {
   "cell_type": "code",
   "execution_count": null,
   "id": "a2d50ab9",
   "metadata": {},
   "outputs": [],
   "source": [
    "engine.quit()\n"
   ]
  },
  {
   "cell_type": "code",
   "execution_count": null,
   "id": "b5606ab0",
   "metadata": {},
   "outputs": [],
   "source": []
  }
 ],
 "metadata": {
  "kernelspec": {
   "display_name": "Python 3 (ipykernel)",
   "language": "python",
   "name": "python3"
  },
  "language_info": {
   "codemirror_mode": {
    "name": "ipython",
    "version": 3
   },
   "file_extension": ".py",
   "mimetype": "text/x-python",
   "name": "python",
   "nbconvert_exporter": "python",
   "pygments_lexer": "ipython3",
   "version": "3.10.9"
  }
 },
 "nbformat": 4,
 "nbformat_minor": 5
}
